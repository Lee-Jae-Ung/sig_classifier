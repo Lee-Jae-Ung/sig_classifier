{
 "cells": [
  {
   "cell_type": "code",
   "execution_count": 2,
   "id": "7a89e39c",
   "metadata": {},
   "outputs": [],
   "source": [
    "from IPython.display import Image\n",
    "import numpy as np\n",
    "import pandas as pd\n",
    "import matplotlib.pyplot as plt\n",
    "import seaborn as sns\n",
    "from sklearn.neighbors import KNeighborsClassifier\n",
    "from sklearn.datasets import make_classification\n",
    "from scipy import io\n",
    "from sklearn import metrics "
   ]
  },
  {
   "cell_type": "code",
   "execution_count": 3,
   "id": "1150d08f",
   "metadata": {},
   "outputs": [],
   "source": [
    "def matRead(path):\n",
    "    mat_file = io.loadmat(path)\n",
    "    signal = mat_file['signal'][:,[0,2]]\n",
    "    time = mat_file['time'][0]\n",
    "    signal_ch1 = signal[:,0]\n",
    "    signal_ch3 = signal[:,1]\n",
    "    return time, signal_ch1, signal_ch3"
   ]
  },
  {
   "cell_type": "code",
   "execution_count": 4,
   "id": "e79f34d1",
   "metadata": {},
   "outputs": [],
   "source": [
    "test = matRead('data/1mm_Water_13Bar_[110-130].mat')"
   ]
  },
  {
   "cell_type": "code",
   "execution_count": 5,
   "id": "208c9c06",
   "metadata": {},
   "outputs": [],
   "source": [
    "def clsfSig(rawdata):\n",
    "    time = rawdata[0]\n",
    "    tmp1 = rawdata[1]\n",
    "    tmp3 = rawdata[2]\n",
    "    \n",
    "    sig1 = np.stack((time,tmp1),axis=1)\n",
    "    sig3 = np.stack((time,tmp3),axis=1)\n",
    "    \n",
    "    sig1_good = sig1[sig1[:,0]<120]\n",
    "    sig1_bad = sig1[sig1[:,0]>=120]\n",
    "    \n",
    "    sig3_good = sig3[sig3[:,0]<120]\n",
    "    sig3_bad = sig3[sig3[:,0]>=120]\n",
    "    \n",
    "    tmp1_bad = sig1_bad[(sig1_bad[:,1] > np.max(sig1_good[:,1])) | (sig1_bad[:,1] < np.min(sig1_good[:,1]))]\n",
    "    tmp3_bad = sig3_bad[(sig3_bad[:,1] > np.max(sig3_good[:,1])) | (sig3_bad[:,1] < np.min(sig3_good[:,1]))]\n",
    "    \n",
    "    good1 = np.stack((np.full(len(tmp1_bad),0),sig1_good[:,1][np.arange(len(tmp1_bad))]),axis=1)\n",
    "    bad1 = np.stack((np.full(len(tmp1_bad),0),tmp1_bad[:,1]),axis=1)\n",
    "    \n",
    "    good3 = np.stack((np.full(len(tmp3_bad),0),sig3_good[:,1][np.arange(len(tmp3_bad))]),axis=1)\n",
    "    bad3 = np.stack((np.full(len(tmp3_bad),0),tmp3_bad[:,1]),axis=1)\n",
    "    return good1,bad1,good3,bad3"
   ]
  },
  {
   "cell_type": "code",
   "execution_count": 7,
   "id": "b1c24bf5",
   "metadata": {},
   "outputs": [
    {
     "name": "stdout",
     "output_type": "stream",
     "text": [
      "데이터 [[0, 0.0027]] , 판정 결과: 정상신호\n"
     ]
    }
   ],
   "source": [
    "#AE SET 0.3\n",
    "\n",
    "\n",
    "\n",
    "good_x = clsfSig(test)[0][:,0]\n",
    "good_y = clsfSig(test)[0][:,1]\n",
    "\n",
    "bad_x = clsfSig(test)[1][:,0]\n",
    "bad_y = clsfSig(test)[1][:,1]\n",
    "\n",
    "d_data = np.column_stack((good_x, good_y))\n",
    "d_label = np.zeros(len(d_data))\n",
    "s_data = np.column_stack((bad_x, bad_y))\n",
    "s_label = np.ones(len(s_data))\n",
    "\n",
    "newdata = [[0, 0.0027]]\n",
    "\n",
    "dogs = np.concatenate((d_data, s_data))\n",
    "labels = np.concatenate((d_label, s_label))\n",
    "\n",
    "classes = {0:'정상신호', 1:'비정상신호'}\n",
    "\n",
    "k = 3\n",
    "knn = KNeighborsClassifier(n_neighbors = k) \n",
    "knn.fit(dogs, labels)\n",
    "y_pred = knn.predict(newdata)\n",
    "print('데이터', newdata, ', 판정 결과:', classes[y_pred[0]])"
   ]
  },
  {
   "cell_type": "code",
   "execution_count": null,
   "id": "12ad2211",
   "metadata": {},
   "outputs": [],
   "source": []
  }
 ],
 "metadata": {
  "kernelspec": {
   "display_name": "Python 3 (ipykernel)",
   "language": "python",
   "name": "python3"
  },
  "language_info": {
   "codemirror_mode": {
    "name": "ipython",
    "version": 3
   },
   "file_extension": ".py",
   "mimetype": "text/x-python",
   "name": "python",
   "nbconvert_exporter": "python",
   "pygments_lexer": "ipython3",
   "version": "3.9.11"
  }
 },
 "nbformat": 4,
 "nbformat_minor": 5
}
